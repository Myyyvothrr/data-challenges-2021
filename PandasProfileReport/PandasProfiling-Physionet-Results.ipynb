{
 "cells": [
  {
   "cell_type": "code",
   "execution_count": 2,
   "metadata": {},
   "outputs": [],
   "source": [
    "from pandas_profiling import ProfileReport\n",
    "import ipywidgets as widgets\n",
    "\n",
    "import sys\n",
    "sys.path.append('../../')\n",
    "from data_challenges.data import PATHs"
   ]
  },
  {
   "cell_type": "markdown",
   "metadata": {},
   "source": [
    "# Load Profiling Report"
   ]
  },
  {
   "cell_type": "code",
   "execution_count": null,
   "metadata": {},
   "outputs": [],
   "source": [
    "# report_file = widgets.Dropdown(options = [(p.name, p) for p in list(PATHs.DATA_PATH.joinpath(\"PandasProfileReport\").glob(\"*.pp\"))])\n",
    "\n",
    "report_file = widgets.RadioButtons(\n",
    "    options = [(p.name, p) for p in list(PATHs.DATA_PATH.joinpath(\"PandasProfileReport\").glob(\"*.pp\"))],\n",
    "    layout = {\"width\": \"max-content\"},\n",
    "    # description = \"Available Pandas Profiling Reports\",\n",
    ")\n",
    "report_file"
   ]
  },
  {
   "cell_type": "code",
   "execution_count": 10,
   "metadata": {},
   "outputs": [],
   "source": [
    "profile = ProfileReport().load(report_file.value)"
   ]
  },
  {
   "cell_type": "code",
   "execution_count": null,
   "metadata": {},
   "outputs": [],
   "source": [
    "profile.to_widgets()"
   ]
  },
  {
   "cell_type": "code",
   "execution_count": null,
   "metadata": {},
   "outputs": [],
   "source": []
  }
 ],
 "metadata": {
  "interpreter": {
   "hash": "ddc813e355b63b19f1af14a019a3201799d7a9ce0b92523df60f28eba2663f85"
  },
  "kernelspec": {
   "display_name": "Python 3.9.7 64-bit ('py39': venv)",
   "language": "python",
   "name": "python3"
  },
  "language_info": {
   "codemirror_mode": {
    "name": "ipython",
    "version": 3
   },
   "file_extension": ".py",
   "mimetype": "text/x-python",
   "name": "python",
   "nbconvert_exporter": "python",
   "pygments_lexer": "ipython3",
   "version": "3.9.7"
  },
  "orig_nbformat": 4
 },
 "nbformat": 4,
 "nbformat_minor": 2
}
